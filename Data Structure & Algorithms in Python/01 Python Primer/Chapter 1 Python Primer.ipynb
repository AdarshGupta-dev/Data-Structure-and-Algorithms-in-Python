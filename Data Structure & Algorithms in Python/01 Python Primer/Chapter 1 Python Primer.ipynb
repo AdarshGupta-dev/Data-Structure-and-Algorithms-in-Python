{
 "cells": [
  {
   "cell_type": "markdown",
   "metadata": {},
   "source": [
    "## 1. Python Primer"
   ]
  },
  {
   "cell_type": "markdown",
   "metadata": {},
   "source": [
    "### 1.1 Python Overview "
   ]
  },
  {
   "cell_type": "markdown",
   "metadata": {},
   "source": [
    "### 1.2 Obects in Python"
   ]
  },
  {
   "cell_type": "markdown",
   "metadata": {},
   "source": [
    "#### 1.2.1 Identiﬁers, Objects, and the Assignment Statement"
   ]
  },
  {
   "cell_type": "markdown",
   "metadata": {},
   "source": [
    "Here, `32.0` is float object. `temp` is name/identifier. `original` is alias, which can be used to access same object.\n",
    "```\n",
    "temp = 32.0\n",
    "original = temp\n",
    "```\n",
    "`orginal = 33.0`\n",
    "This is re-assignment of alias. This brakes the alias, and not affect the `temp`."
   ]
  },
  {
   "cell_type": "markdown",
   "metadata": {},
   "source": [
    "#### 1.2.2 Creating and Using Objects"
   ]
  },
  {
   "cell_type": "markdown",
   "metadata": {},
   "source": [
    "__Instantiation__: Creating a new instance of a class. Usually, it means calling constructor of the class. There is also literal form for designating new instances. Eg. `temp = 23.3`. Or, call a functin that creates a new instance. eg. `sort` return a new instance of list."
   ]
  },
  {
   "cell_type": "markdown",
   "metadata": {},
   "source": [
    "Classes can have multiples functions, which are called `methods` and `member functions`. These can be accessed using dot operator.\n",
    "\n",
    "eg. `response.lower( ).startswith( y )`\n",
    "\n",
    "`lower` changes the object thus called __mutators or update methods__.\n",
    "`startswith` do not change the object, only access it. Thus, called __accessors__."
   ]
  },
  {
   "cell_type": "markdown",
   "metadata": {},
   "source": [
    "#### 1.2.3 Python’s Built-In Classes"
   ]
  },
  {
   "cell_type": "markdown",
   "metadata": {},
   "source": [
    "Python have many build-in data classes. \n",
    "\n",
    "Eg. `bool`, `int`, `ﬂoat`, `list`, `tuple`, `str`, `set`, `frozenset`, `dict`\n",
    "\n",
    "Out of these, list, set, and dict are immutable. Rest are not.\n",
    "\n",
    "Eg,\n",
    "```\n",
    "temp = 23\n",
    "temp = 22\n",
    "```\n",
    "Here, a new object (float(23)) will be created rather than changing existing float(22) object.\n",
    "\n",
    "__The `bool` Class__\n",
    "\n",
    "The default constructor, bool( ), returns False. \n",
    "\n",
    "`bool(foo)` is used mainly to evalute non-bool objects. Numbers evaluate to False if zero, and True if nonzero. Sequences and other container types, such as strings and lists, evaluate to False if empty and True if nonempty.\n",
    "\n",
    "__The `int` Class__\n",
    "\n",
    "The int and ﬂoat classes are the primary numeric types in Python. The int class is designed to represent integer values with arbitrary magnitude.\n",
    "\n",
    "Python automatically chooses the internal representation for an integer based upon the magnitude of its value.\n",
    "\n",
    "The integer constructor, int( ), returns value 0 by default.\n",
    "\n",
    "`int(foo)` is used to change string or float to int. It can be also used to change interger from different base to base 10.\n",
    "\n",
    "__The `ﬂoat` Class__\n",
    "\n",
    "Float can directly as 2.0 or 2.1e2 in mathematical notion of 2.1 * 10<sup>2</sup>. \n",
    "\n",
    "The float constructor, float( ), returns value 0.0 by default.\n",
    "\n",
    "`float(foo)` is used to change string or int to float.\n",
    "\n",
    "__The `list` Class__\n",
    "\n",
    "A list instance stores a sequence of objects. A list is a referential structure, as it technically stores a sequence of references to its elements. Elements of a list may be arbitrary objects (including the None object).\n",
    "\n",
    "The list constructor, list(foo), produces an empty list by default. It accept any parameter that is of an iterable type (e.g., strings, list, tuples, sets, dictionaries).\n",
    "\n",
    "__The `tuple` Class__\n",
    "\n",
    "Tuple provides an immutable version of a sequence, and therefore its instances have an internal representation that may be more streamlined than that of a list.\n",
    "\n",
    "__The `str` Class__\n",
    "\n",
    "str class is specifically designed to efficiently represent an immutable sequence of character. Strings\n",
    "have a more compact internal representation than the referential lists and tuples.\n",
    "\n",
    "__The `set` and `frozenset` Classes__\n",
    "\n",
    "set class represents the mathematical notion of a set, namely a collection of elements, without duplicates, and without an inherent order to those elements.\n",
    "\n",
    "The major advantage of using a set, as opposed to a list, is that it has a highly optimized method for checking whether a speciﬁc element is contained in the set. This is based on a data structure known as a hash table\n",
    "\n",
    "The ﬁrst is that the set does not maintain the elements in any particular order. The second is that only instances of immutable types can be added to a Python set. Therefore, objects such as integers, ﬂoating-point numbers, and character strings are eligible to be elements of a set.\n",
    "\n",
    "frozenset class is an immutable form of the set type.\n",
    "\n",
    "__The `dict` Class__\n",
    "\n",
    "dict class represents a dictionary, or mapping, from a set of distinct keys to associated values. Python implements a dict using an almost identical approach to that of a set, but with storage of the associated values.\n",
    "\n",
    "The dict constructor, dict(foo), produces an empty dict by default. It accept existing mapping as a parameter. It also accepts a sequence of key-value pairs.\n",
    "\n",
    "eg.\n",
    "```\n",
    "dict([( 'ga' , 'Irish' ), ( 'de' , 'German' )])\n",
    "```"
   ]
  },
  {
   "cell_type": "markdown",
   "metadata": {},
   "source": [
    "### 1.3 Expressions, Operators, and Precedence"
   ]
  },
  {
   "cell_type": "markdown",
   "metadata": {},
   "source": [
    "__Logical Operators__\n",
    "\n",
    "| |  |\n",
    "| --- | --- |\n",
    "| not |  unary negation  |\n",
    "| and |  conditional and |\n",
    "| or | conditional or   |\n",
    "\n",
    "\n",
    "__Equality Operators__\n",
    "\n",
    "| |  |\n",
    "| --- | --- |\n",
    "| is     | same identity |\n",
    "| is not | different identity |\n",
    "| ==     | equivalent |\n",
    "| !=     | not equivalent |\n",
    "\n",
    "__Comparison Operators__\n",
    "\n",
    "| |  |\n",
    "| --- | --- |\n",
    "| < | less than |\n",
    "| <= | less than or equal to |\n",
    "| > | greater than |\n",
    "| >= | greater than or equal to |\n",
    "\n",
    "__Arithmetic Operators__\n",
    "\n",
    "| |  |\n",
    "| --- | --- |\n",
    "| + | addition |\n",
    "| − | subtraction |\n",
    "| * | multiplication |\n",
    "| / | true division |\n",
    "| // |  integer division |\n",
    "| % | the modulo operator |\n",
    "\n",
    "Bitwise Operators\n",
    "\n",
    "| |  |\n",
    "| --- | --- |\n",
    "| ∼  | bitwise complement (preﬁx unary operator) |\n",
    "| &  | bitwise and |\n",
    "| |  | bitwise or |\n",
    "| ˆ  | bitwise exclusive-or |\n",
    "| <<  |  shift bits left, ﬁlling in with zeros |\n",
    "| >>  |  shift bits right, ﬁlling in with sign bit |\n",
    "\n",
    "Sequence Operators\n",
    "\n",
    "| |  |\n",
    "| :--- | :--- |\n",
    "| s[j] | element at index j |\n",
    "| s[start:stop] |slice including indices [start,stop) |\n",
    "| s[start:stop:step] | slice including indices start, start + step, start + 2 step, . . . , up to but not equalling or  stop |\n",
    "| s+t | concatenation of sequences |\n",
    "| k*s | shorthand for s + s + s + ... (k times) |\n",
    "| val in s | containment check |\n",
    "| val not in s | non-containment check |\n",
    "\n",
    "Sequences comparison operations are based on lexicographic order.\n",
    "\n",
    "| |  |\n",
    "| :--- | :--- |\n",
    "| s == t | equivalent (element by element) |\n",
    "| s != t | not equivalent |\n",
    "| s < t | lexicographically less than |\n",
    "| s <=  |  lexicographically less than or equal to |\n",
    "| s > t | lexicographically greater than |\n",
    "| s >= t | lexicographically greater than or equal to |\n",
    "\n",
    "\n",
    "Operators for Sets and Dictionaries\n",
    "\n",
    "| |  |\n",
    "| :--- | :--- |\n",
    "| key in s | containment check |\n",
    "| key not in s | non-containment check |\n",
    "| s1 == s2 | s1 is equivalent to s2 |\n",
    "| s1 != s2 | s1 is not equivalent to s2 |\n",
    "| s1 <= s2 | s1 is subset of s2 |\n",
    "| s1 < s2 | s1 is proper subset of s2 |\n",
    "| s1 >= s2 | s1 is superset of s2 |\n",
    "| s1 > s2 | s1 is proper superset of s2 |\n",
    "| s1 | s2 | the union of s1 and s2 |\n",
    "| s1 & s2 | the intersection of s1 and s2 |\n",
    "| s1 − s2 | the set of elements in s1 but not s2 |\n",
    "| s1 ˆ s2 | the set of elements in precisely one of s1 or s2 |"
   ]
  },
  {
   "cell_type": "markdown",
   "metadata": {},
   "source": [
    "### 1.4 Control Flow"
   ]
  },
  {
   "cell_type": "markdown",
   "metadata": {},
   "source": [
    "#### 1.4.1 Conditionals\n",
    "#### 1.4.2 Loops"
   ]
  },
  {
   "cell_type": "markdown",
   "metadata": {},
   "source": [
    "### 1.5 Functions"
   ]
  },
  {
   "cell_type": "code",
   "execution_count": null,
   "metadata": {},
   "outputs": [],
   "source": []
  },
  {
   "cell_type": "code",
   "execution_count": null,
   "metadata": {},
   "outputs": [],
   "source": []
  },
  {
   "cell_type": "code",
   "execution_count": null,
   "metadata": {},
   "outputs": [],
   "source": []
  },
  {
   "cell_type": "code",
   "execution_count": null,
   "metadata": {},
   "outputs": [],
   "source": []
  },
  {
   "cell_type": "code",
   "execution_count": null,
   "metadata": {},
   "outputs": [],
   "source": []
  },
  {
   "cell_type": "code",
   "execution_count": null,
   "metadata": {},
   "outputs": [],
   "source": []
  },
  {
   "cell_type": "code",
   "execution_count": null,
   "metadata": {},
   "outputs": [],
   "source": []
  }
 ],
 "metadata": {
  "kernelspec": {
   "display_name": "Python 3 (ipykernel)",
   "language": "python",
   "name": "python3"
  },
  "language_info": {
   "codemirror_mode": {
    "name": "ipython",
    "version": 3
   },
   "file_extension": ".py",
   "mimetype": "text/x-python",
   "name": "python",
   "nbconvert_exporter": "python",
   "pygments_lexer": "ipython3",
   "version": "3.10.6"
  },
  "vscode": {
   "interpreter": {
    "hash": "e7370f93d1d0cde622a1f8e1c04877d8463912d04d973331ad4851f04de6915a"
   }
  }
 },
 "nbformat": 4,
 "nbformat_minor": 2
}
